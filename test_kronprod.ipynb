import numpy as np
import pymc3 as pm
import theano.tensor as tt

# Create some fake data
ntrials_small = 200
ntrials_large = 1000
ntimes = 3
ninputs = 6

y_small = np.random.normal(size=(ntrials_small,ntimes))
x_small = np.random.normal(size=(ntrials_small,ninputs))
y_small_flat = np.ndarray.flatten(y_small) 

y_large = np.random.normal(size=(ntrials_large,ntimes))
x_large = np.random.normal(size=(ntrials_large,ninputs))
y_large_flat = np.ndarray.flatten(y_large) 

# Define pymc models

# MatrixNormal, Small data
with pm.Model() as mn_small:
    
    # Priors
    muvec = pm.Normal('muvec', shape=ntimes)
    sigma = pm.HalfCauchy('sigma', beta=10., testval=0.5)
    packed_L = pm.LKJCholeskyCov('packed_L', n=ntimes, eta=2., sd_dist=pm.HalfCauchy.dist(2.5))
    ell = pm.HalfCauchy('ell', beta=10., testval=0.5, shape=ninputs)

    # Covariance function/matrices
    cor = pm.gp.cov.ExpQuad(input_dim=ninputs, ls=ell)
    K = cor(x_small)
    L = pm.expand_packed_triangular(ntimes, packed_L)

    # Mean matrix
    M = pm.Deterministic('M', tt.tile(muvec,(y_small.shape[0],1)))

    # Likelihood
    y = pm.MatrixNormal('y', mu=M, rowcov=K, colchol=L, observed=y_small, shape=y_small.shape)


# KroneckerNormal, Small data
with pm.Model() as kn_small:
    
    # Priors
    muvec = pm.Normal('muvec', shape=ntimes)
    sigma = pm.HalfCauchy('sigma', beta=10., testval=0.5)
    packed_L = pm.LKJCholeskyCov('packed_L', n=ntimes, eta=2., sd_dist=pm.HalfCauchy.dist(2.5))
    ell = pm.HalfCauchy('ell', beta=10., testval=0.5, shape=ninputs)

    # Covariance function/matrices
    cor = pm.gp.cov.ExpQuad(input_dim=ninputs, ls=ell)
    K = cor(x_small)
    L = pm.expand_packed_triangular(ntimes, packed_L)
    S = L.dot(L.T)
    evds = [tt.nlinalg.eigh(Ki) for Ki in [K, S]]

    # Mean function
    M = pm.Deterministic('M', tt.repeat(muvec,y_small.shape[0]))

    # Likelihood
    y = pm.KroneckerNormal('y', mu=M, evds=evds, observed=y_small_flat, sigma=sigma)
  
    
# MatrixNormal, Large data
with pm.Model() as mn_large:
    
    # Priors
    muvec = pm.Normal('muvec', shape=ntimes)
    sigma = pm.HalfCauchy('sigma', beta=10., testval=0.5)
    packed_L = pm.LKJCholeskyCov('packed_L', n=ntimes, eta=2., sd_dist=pm.HalfCauchy.dist(2.5))
    ell = pm.HalfCauchy('ell', beta=10., testval=0.5, shape=ninputs)

    # Covariance function/matrices
    cor = pm.gp.cov.ExpQuad(input_dim=ninputs, ls=ell)
    K = cor(x_large)
    L = pm.expand_packed_triangular(ntimes, packed_L)

    # Mean matrix
    M = pm.Deterministic('M', tt.tile(muvec,(y_large.shape[0],1)))

    # Likelihood
    y = pm.MatrixNormal('y', mu=M, rowcov=K, colchol=L, observed=y_large, shape=y_large.shape)
    

# KroneckerNormal, Large data
with pm.Model() as kn_large:
    
    # Priors
    muvec = pm.Normal('muvec', shape=ntimes)
    sigma = pm.HalfCauchy('sigma', beta=10., testval=0.5)
    packed_L = pm.LKJCholeskyCov('packed_L', n=ntimes, eta=2., sd_dist=pm.HalfCauchy.dist(2.5))
    ell = pm.HalfCauchy('ell', beta=10., testval=0.5, shape=ninputs)

    # Covariance function/matrices
    cor = pm.gp.cov.ExpQuad(input_dim=ninputs, ls=ell)
    K = cor(x_large)
    L = pm.expand_packed_triangular(ntimes, packed_L)
    S = L.dot(L.T)
    evds = [tt.nlinalg.eigh(Ki) for Ki in [K, S]]

    # Mean function
    M = pm.Deterministic('M', tt.repeat(muvec,y_large.shape[0]))

    # Likelihood
    y = pm.KroneckerNormal('y', mu=M, evds=evds, observed=y_large_flat, sigma=sigma)
